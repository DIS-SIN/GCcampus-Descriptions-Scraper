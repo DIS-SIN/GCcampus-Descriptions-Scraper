{
 "cells": [
  {
   "cell_type": "code",
   "execution_count": null,
   "metadata": {},
   "outputs": [],
   "source": [
    "# Note: Use standard account rather than admin account"
   ]
  },
  {
   "cell_type": "code",
   "execution_count": null,
   "metadata": {},
   "outputs": [],
   "source": [
    "import os\n",
    "import re\n",
    "import pandas as pd\n",
    "from selenium import webdriver"
   ]
  },
  {
   "cell_type": "code",
   "execution_count": null,
   "metadata": {},
   "outputs": [],
   "source": [
    "### PARAMETERS ###\n",
    "\n",
    "# Number of pages in course list\n",
    "# Check query string of last page e.g. /application/en/courses-solr?page=39 and add 1 e.g. LAST_PAGE_EN = 40\n",
    "LAST_PAGE_EN = 40\n",
    "LAST_PAGE_FR = 40\n",
    "\n",
    "# Bool for scraping FR descriptions\n",
    "FRENCH = True"
   ]
  },
  {
   "cell_type": "code",
   "execution_count": null,
   "metadata": {},
   "outputs": [],
   "source": [
    "### CREDENTIALS ###\n",
    "USERNAME = os.environ.get('GCCAMPUS_USERNAME')\n",
    "PASSWORD = os.environ.get('GCCAMPUS_PASSWORD')\n",
    "assert USERNAME is not None, 'Missing USERNAME'\n",
    "assert PASSWORD is not None, 'Missing PASSWORD'"
   ]
  },
  {
   "cell_type": "code",
   "execution_count": null,
   "metadata": {},
   "outputs": [],
   "source": [
    "browser = webdriver.Chrome()"
   ]
  },
  {
   "cell_type": "code",
   "execution_count": null,
   "metadata": {},
   "outputs": [],
   "source": [
    "# Navigate to GCcampus and login\n",
    "if FRENCH:\n",
    "    main_url = 'https://idp.csps-efpc.gc.ca/idp/login-fr.jsp'\n",
    "else:\n",
    "    main_url = 'https://idp.csps-efpc.gc.ca/idp/Authn/UserPassword'\n",
    "\n",
    "browser.get(main_url)\n",
    "browser.find_element_by_id('j_username').send_keys(USERNAME)\n",
    "browser.find_element_by_id('j_password').send_keys(PASSWORD)\n",
    "browser.find_element_by_id('cbPrivacy').click()\n",
    "browser.find_element_by_xpath(\"//button[@type='submit']\").click()"
   ]
  },
  {
   "cell_type": "code",
   "execution_count": null,
   "metadata": {},
   "outputs": [],
   "source": [
    "# Loop through course list and get all links\n",
    "if FRENCH:\n",
    "    list_url = 'https://learn-apprendre.csps-efpc.gc.ca/application/fr/courses-solr?page='\n",
    "else:\n",
    "    list_url = 'https://learn-apprendre.csps-efpc.gc.ca/application/en/courses-solr?page='\n",
    "last_page = LAST_PAGE_FR if FRENCH else LAST_PAGE_EN\n",
    "course_links = []\n",
    "for i in range(last_page):\n",
    "    browser.get(list_url + str(i))\n",
    "    mars = browser.find_elements_by_css_selector('.field-items a')\n",
    "    for elem in mars:\n",
    "        course_links.append(elem.get_attribute('href'))"
   ]
  },
  {
   "cell_type": "code",
   "execution_count": null,
   "metadata": {},
   "outputs": [],
   "source": [
    "# Compile regex to extract course codes\n",
    "# Optional capture group 1: e.g. 'C451-2'\n",
    "# Optional capture group 2: e.g. 'G110 – MODULE 3'\n",
    "regex = re.compile(pattern=r'[a-zA-Z]{1}\\d{3}(?:[–-]{1}\\d{1})?(?:\\s{1}[–-]{1}\\s{1}MODULE\\s{1}\\d{1})?')"
   ]
  },
  {
   "cell_type": "code",
   "execution_count": null,
   "metadata": {},
   "outputs": [],
   "source": [
    "# Dict to map problematic / exceptional course codes\n",
    "EXCEPTION_DICT = {\n",
    "    'H200': 'H200_MODULE 1'\n",
    "}"
   ]
  },
  {
   "cell_type": "code",
   "execution_count": null,
   "metadata": {
    "scrolled": true
   },
   "outputs": [],
   "source": [
    "# For each link in 'course_links', navigate to page, grab course description (HTML\n",
    "# tags included), search for course code, and save to 'desc_dict'\n",
    "desc_dict = {}\n",
    "for i, link in enumerate(course_links):\n",
    "    print('{0} / {1}'.format(i + 1, len(course_links)))\n",
    "    browser.get(link)\n",
    "    # Grab description\n",
    "    desc = browser.find_elements_by_css_selector('.field-item[property=\"content:encoded\"]')[0].get_attribute('innerHTML')\n",
    "    # Grab title and extract course code\n",
    "    title = browser.find_elements_by_css_selector('.page-title')[0].get_attribute('innerHTML')\n",
    "    title = title.upper()\n",
    "    title_search = regex.findall(title)\n",
    "    pkey = title_search[0] if title_search else link\n",
    "    pkey = pkey.replace('–', '-')\n",
    "    if pkey in EXCEPTION_DICT:\n",
    "        pkey = EXCEPTION_DICT[pkey]\n",
    "    desc_dict[pkey] = desc"
   ]
  },
  {
   "cell_type": "code",
   "execution_count": null,
   "metadata": {},
   "outputs": [],
   "source": [
    "# Store 'desc_dict' in DataFrame for processing\n",
    "df = pd.DataFrame.from_dict(desc_dict, orient='index')\n",
    "df.reset_index(level=0, inplace=True)\n",
    "df.columns = ['course_code', 'desc']"
   ]
  },
  {
   "cell_type": "code",
   "execution_count": null,
   "metadata": {},
   "outputs": [],
   "source": [
    "# Transform relative links to absolute links\n",
    "df['desc'] = df['desc'].astype(str).str.replace('href=\"/application/en/',\n",
    "                                                'href=\"https://learn-apprendre.csps-efpc.gc.ca/application/en/',\n",
    "                                                regex=False)\n",
    "df['desc'] = df['desc'].astype(str).str.replace('href=\"/application/fr/',\n",
    "                                                'href=\"https://learn-apprendre.csps-efpc.gc.ca/application/fr/',\n",
    "                                                regex=False)"
   ]
  },
  {
   "cell_type": "code",
   "execution_count": null,
   "metadata": {},
   "outputs": [],
   "source": [
    "# Remove junk info\n",
    "df['desc'] = df['desc'].astype(str).str.replace(' This link will open in a new window', ' ', regex=False)\n",
    "df['desc'] = df['desc'].astype(str).str.replace(' Ce lien va ouvrir dans une nouvelle fenêtre', ' ', regex=False)"
   ]
  },
  {
   "cell_type": "code",
   "execution_count": null,
   "metadata": {},
   "outputs": [],
   "source": [
    "# Replace new line characters '\\r' and '\\n' with a space\n",
    "df['desc'] = df['desc'].astype(str).str.replace('\\r', ' ', regex=False)\n",
    "df['desc'] = df['desc'].astype(str).str.replace('\\n', ' ', regex=False)"
   ]
  },
  {
   "cell_type": "code",
   "execution_count": null,
   "metadata": {},
   "outputs": [],
   "source": [
    "# Remove superfluous spacing\n",
    "df['desc'] = df['desc'].astype(str).str.replace(r'  +', ' ', regex=True)"
   ]
  },
  {
   "cell_type": "code",
   "execution_count": null,
   "metadata": {},
   "outputs": [],
   "source": [
    "# Export to CSV\n",
    "df.to_csv('scraped_{0}.csv'.format('fr' if FRENCH else 'en'), sep=',', encoding='utf-8')"
   ]
  },
  {
   "cell_type": "code",
   "execution_count": null,
   "metadata": {},
   "outputs": [],
   "source": []
  }
 ],
 "metadata": {
  "kernelspec": {
   "display_name": "Python 3",
   "language": "python",
   "name": "python3"
  },
  "language_info": {
   "codemirror_mode": {
    "name": "ipython",
    "version": 3
   },
   "file_extension": ".py",
   "mimetype": "text/x-python",
   "name": "python",
   "nbconvert_exporter": "python",
   "pygments_lexer": "ipython3",
   "version": "3.7.3"
  }
 },
 "nbformat": 4,
 "nbformat_minor": 2
}
